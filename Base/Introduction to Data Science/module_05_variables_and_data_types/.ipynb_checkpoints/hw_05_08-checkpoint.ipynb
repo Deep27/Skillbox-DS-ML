{
 "cells": [
  {
   "cell_type": "markdown",
   "metadata": {
    "id": "DQMbBvBmCHHB"
   },
   "source": [
    "# Переменные и типы данных. Домашнее задание\n",
    "\n",
    "### Цель домашнего задания\n",
    "Закрепить пройденный материал о переменных, типах данных и булевых значениях.\n",
    "\n",
    "###Что нужно сделать\n",
    "Выполните предложенные ниже задачи.\n",
    "\n",
    "###Что оценивается\n",
    "Для каждой задачи:\n",
    "* Программа выполняет все описанные в задаче действия.\n",
    "* Результаты вычислений и применённых операций корректны.\n",
    "* Вывод производится в том виде, который описан в задаче.\n",
    "* Переменные имеют информативные названия.\n",
    "\n",
    "### Как отправить задание на проверку\n",
    "Выполните предложенные задачи, сохраните изменения, используя опцию Save and Checkpoint из вкладки меню File или кнопку Save and Checkpoint на панели инструментов. Итоговый файл .ipynb (файл Jupyter Notebook) или ссылку на него отправьте на проверку преподавателю.\n",
    "\n"
   ]
  },
  {
   "cell_type": "markdown",
   "metadata": {
    "id": "xC9zfQx09hse"
   },
   "source": [
    "1. В ячейке ниже вы видите пять переменных. Составьте из них осмысленную фразу и выведите на печать, используя конкатенацию."
   ]
  },
  {
   "cell_type": "code",
   "execution_count": 1,
   "metadata": {
    "id": "_Er7M5A6BOW5"
   },
   "outputs": [],
   "source": [
    "# Переменные\n",
    "inf = \"греться \"\n",
    "noun = \"змеи \"\n",
    "obj = \"солнце \"\n",
    "prep = \"на \"\n",
    "verb = \"любят \""
   ]
  },
  {
   "cell_type": "code",
   "execution_count": 2,
   "metadata": {
    "id": "ZRye7O1zBTxI"
   },
   "outputs": [
    {
     "name": "stdout",
     "output_type": "stream",
     "text": [
      "змеи  любят  греться  на  солнце \n"
     ]
    }
   ],
   "source": [
    "# Выведите на печать фразу\n",
    "print(noun, verb, inf, prep, obj)"
   ]
  },
  {
   "cell_type": "markdown",
   "metadata": {
    "id": "E9GwwHEaCz4f"
   },
   "source": [
    "2. Вы проехали на такси 15,5 километра и заплатили за поездку 520 рублей. Сохраните данные в переменные и посчитайте, сколько стоил километр вашей поездки. Выведите стоимость километра поездки на экран.\n"
   ]
  },
  {
   "cell_type": "code",
   "execution_count": 3,
   "metadata": {
    "id": "8SZO6KwpHx7v"
   },
   "outputs": [
    {
     "name": "stdout",
     "output_type": "stream",
     "text": [
      "8060.0\n"
     ]
    }
   ],
   "source": [
    "# Переменные\n",
    "distance = 15.5\n",
    "price_per_km = 520\n",
    "\n",
    "# Расчёт стоимости на километр\n",
    "total_price = 15.5 * 520\n",
    "\n",
    "# Вывод на экран\n",
    "print(total_price)\n"
   ]
  },
  {
   "cell_type": "markdown",
   "metadata": {
    "id": "xXP2rrn8IOQw"
   },
   "source": [
    "3. В ячейке ниже есть несколько переменных. Проверьте, относятся ли они к типу данных «строка». Выведите для каждого результат проверки на экран.\n"
   ]
  },
  {
   "cell_type": "markdown",
   "metadata": {
    "id": "FctfjX1QIdvB"
   },
   "source": [
    "*Критерии оценки*: задание считается выполненным, если на выводе мы видим проверку для всех трех переменных и результат для каждой из них в виде True или False"
   ]
  },
  {
   "cell_type": "code",
   "execution_count": 5,
   "metadata": {
    "id": "XaqILybNGQi5"
   },
   "outputs": [
    {
     "name": "stdout",
     "output_type": "stream",
     "text": [
      "Переменная age является строкой:  False\n",
      "Переменная town является строкой:  True\n",
      "Переменная beautiful является строкой:  False\n"
     ]
    }
   ],
   "source": [
    "# Переменные для проверки\n",
    "age = 1006\n",
    "town = 'Торжок'\n",
    "beautiful = True\n",
    "\n",
    "# Проверяем и выводим результат\n",
    "print('Переменная age является строкой: ', isinstance(age, str))\n",
    "print('Переменная town является строкой: ', isinstance(town, str))\n",
    "print('Переменная beautiful является строкой: ', isinstance(beautiful, str))\n"
   ]
  },
  {
   "cell_type": "markdown",
   "metadata": {
    "id": "j_D8Y5U6GUHp"
   },
   "source": [
    "4. Посмотрите вокруг. Наверное, вы сидите в помещении (если нет, представьте любое знакомое помещение). Как вы думаете, его площадь больше 15 квадратных метров или меньше? Напишите программу, которая будет сравнивать площадь этого помещения с 15 квадратными метрами. Ширину и длину программа должна запрашивать на ввод с экрана. В итоге программа должна выводить на экран вопрос «Ваша комната больше 15 квадратных метров?» и сама же отвечать на него `True` или `False`.\n"
   ]
  },
  {
   "cell_type": "code",
   "execution_count": 6,
   "metadata": {
    "id": "nj9JahM_HbvF"
   },
   "outputs": [
    {
     "name": "stdout",
     "output_type": "stream",
     "text": [
      "Введите ширину комнаты: 5\n",
      "Введите длину комнаты: 4\n",
      "Ваша комната больше 15 квадратных метров?\n",
      "True\n"
     ]
    }
   ],
   "source": [
    "# Начинаем с ввода данных с экрана, которые сохраняем в переменные. Помните про тип данных!\n",
    "\n",
    "width = float(input('Введите ширину комнаты: '))\n",
    "length = float(input('Введите длину комнаты: '))\n",
    "\n",
    "\n",
    "# Вычисляем площадь\n",
    "area = width * length\n",
    "\n",
    "# Выводим на экран вопрос\n",
    "print('Ваша комната больше 15 квадратных метров?')\n",
    "\n",
    "# Сравниваем полученную площадь с 15 квадратными метрами\n",
    "print(area > 15)\n"
   ]
  },
  {
   "cell_type": "markdown",
   "metadata": {
    "id": "YfnVuKRuIvdZ"
   },
   "source": [
    "5. Напишите программу, которая запрашивает на ввод какое-то слово или фразу, а потом выводит на печать длину этой фразы.\n"
   ]
  },
  {
   "cell_type": "code",
   "execution_count": 7,
   "metadata": {
    "id": "pdQSd8RKHzPU"
   },
   "outputs": [
    {
     "name": "stdout",
     "output_type": "stream",
     "text": [
      "Введите какое-нибудь слово или фразу:Мама мыла раму\n",
      "14\n"
     ]
    }
   ],
   "source": [
    "# Запрашиваем фразу\n",
    "phrase = input('Введите какое-нибудь слово или фразу:')\n",
    "\n",
    "# Считаем длину\n",
    "length = len(phrase)\n",
    "\n",
    "# Выводим длину фразы на экран\n",
    "print(length)\n",
    "\n"
   ]
  },
  {
   "cell_type": "markdown",
   "metadata": {
    "id": "6g_gZkuHKxJ_"
   },
   "source": [
    "6. Замените вопросительный знак так, чтобы на выводе получилось `True`.\n"
   ]
  },
  {
   "cell_type": "code",
   "execution_count": 8,
   "metadata": {
    "colab": {
     "base_uri": "https://localhost:8080/"
    },
    "executionInfo": {
     "elapsed": 405,
     "status": "ok",
     "timestamp": 1630882731242,
     "user": {
      "displayName": "Evgeniya Rakina",
      "photoUrl": "",
      "userId": "02082358283809329905"
     },
     "user_tz": -180
    },
    "id": "tP6aWWSzKxzJ",
    "outputId": "99829aad-152a-4331-8d9f-b3206074b349"
   },
   "outputs": [
    {
     "data": {
      "text/plain": [
       "True"
      ]
     },
     "execution_count": 8,
     "metadata": {},
     "output_type": "execute_result"
    }
   ],
   "source": [
    "len(\"Привет\") < 14 or type(\"Привет\") == float"
   ]
  },
  {
   "cell_type": "code",
   "execution_count": 9,
   "metadata": {
    "colab": {
     "base_uri": "https://localhost:8080/"
    },
    "executionInfo": {
     "elapsed": 293,
     "status": "ok",
     "timestamp": 1630882995848,
     "user": {
      "displayName": "Evgeniya Rakina",
      "photoUrl": "",
      "userId": "02082358283809329905"
     },
     "user_tz": -180
    },
    "id": "8Uenbo4dLiCW",
    "outputId": "0941a29c-9314-4c4e-f331-781b73872f43"
   },
   "outputs": [
    {
     "data": {
      "text/plain": [
       "True"
      ]
     },
     "execution_count": 9,
     "metadata": {},
     "output_type": "execute_result"
    }
   ],
   "source": [
    "not (int(3.5) != 3 and 3 < 5)"
   ]
  },
  {
   "cell_type": "code",
   "execution_count": 13,
   "metadata": {
    "colab": {
     "base_uri": "https://localhost:8080/"
    },
    "executionInfo": {
     "elapsed": 339,
     "status": "ok",
     "timestamp": 1630883081934,
     "user": {
      "displayName": "Evgeniya Rakina",
      "photoUrl": "",
      "userId": "02082358283809329905"
     },
     "user_tz": -180
    },
    "id": "VP7-FMbCMcKj",
    "outputId": "fe1f2679-809b-43bc-9b4d-35f430bd9dac"
   },
   "outputs": [
    {
     "data": {
      "text/plain": [
       "True"
      ]
     },
     "execution_count": 13,
     "metadata": {},
     "output_type": "execute_result"
    }
   ],
   "source": [
    "True * 5 == 5"
   ]
  },
  {
   "cell_type": "code",
   "execution_count": 14,
   "metadata": {
    "colab": {
     "base_uri": "https://localhost:8080/"
    },
    "executionInfo": {
     "elapsed": 445,
     "status": "ok",
     "timestamp": 1630883127639,
     "user": {
      "displayName": "Evgeniya Rakina",
      "photoUrl": "",
      "userId": "02082358283809329905"
     },
     "user_tz": -180
    },
    "id": "OsHOg26GNOvT",
    "outputId": "d1af4de5-467a-47fc-b6ce-59d3265238e3"
   },
   "outputs": [
    {
     "data": {
      "text/plain": [
       "True"
      ]
     },
     "execution_count": 14,
     "metadata": {},
     "output_type": "execute_result"
    }
   ],
   "source": [
    "float(35) < 77.0"
   ]
  },
  {
   "cell_type": "code",
   "execution_count": 15,
   "metadata": {
    "colab": {
     "base_uri": "https://localhost:8080/"
    },
    "executionInfo": {
     "elapsed": 273,
     "status": "ok",
     "timestamp": 1630883169393,
     "user": {
      "displayName": "Evgeniya Rakina",
      "photoUrl": "",
      "userId": "02082358283809329905"
     },
     "user_tz": -180
    },
    "id": "k9bJm0thNYHb",
    "outputId": "dd9d2ecc-c373-4bfe-b87c-7bc184fbdbf8"
   },
   "outputs": [
    {
     "data": {
      "text/plain": [
       "True"
      ]
     },
     "execution_count": 15,
     "metadata": {},
     "output_type": "execute_result"
    }
   ],
   "source": [
    "77 // 2 == 38 and not False"
   ]
  }
 ],
 "metadata": {
  "colab": {
   "name": "5.8_Домашнее_задание.ipynb",
   "provenance": []
  },
  "kernelspec": {
   "display_name": "Python 3",
   "language": "python",
   "name": "python3"
  },
  "language_info": {
   "codemirror_mode": {
    "name": "ipython",
    "version": 3
   },
   "file_extension": ".py",
   "mimetype": "text/x-python",
   "name": "python",
   "nbconvert_exporter": "python",
   "pygments_lexer": "ipython3",
   "version": "3.8.8"
  }
 },
 "nbformat": 4,
 "nbformat_minor": 1
}
